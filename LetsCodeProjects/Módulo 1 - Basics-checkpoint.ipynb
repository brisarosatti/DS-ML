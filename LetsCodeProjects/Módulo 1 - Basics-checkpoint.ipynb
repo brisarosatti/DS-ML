{
 "cells": [
  {
   "cell_type": "code",
   "execution_count": 1,
   "id": "68474d57",
   "metadata": {},
   "outputs": [
    {
     "name": "stdout",
     "output_type": "stream",
     "text": [
      "Hello , World!\n"
     ]
    }
   ],
   "source": [
    "print(\"Hello , World!\")"
   ]
  },
  {
   "cell_type": "code",
   "execution_count": 2,
   "id": "4bef7447",
   "metadata": {},
   "outputs": [],
   "source": [
    "x = 5"
   ]
  },
  {
   "cell_type": "code",
   "execution_count": 3,
   "id": "11233472",
   "metadata": {},
   "outputs": [
    {
     "name": "stdout",
     "output_type": "stream",
     "text": [
      "5\n"
     ]
    }
   ],
   "source": [
    "print(x)"
   ]
  },
  {
   "cell_type": "code",
   "execution_count": 4,
   "id": "8347f90f",
   "metadata": {},
   "outputs": [
    {
     "name": "stdout",
     "output_type": "stream",
     "text": [
      "<class 'int'>\n"
     ]
    }
   ],
   "source": [
    "print(type(x))"
   ]
  },
  {
   "cell_type": "code",
   "execution_count": 7,
   "id": "28ba8399",
   "metadata": {},
   "outputs": [
    {
     "name": "stdout",
     "output_type": "stream",
     "text": [
      "19.99 <class 'float'>\n"
     ]
    }
   ],
   "source": [
    "preco = 19.99\n",
    "print(preco, type(preco))"
   ]
  },
  {
   "cell_type": "code",
   "execution_count": 8,
   "id": "26c57e30",
   "metadata": {},
   "outputs": [
    {
     "name": "stdout",
     "output_type": "stream",
     "text": [
      "Salvador <class 'str'>\n"
     ]
    }
   ],
   "source": [
    "cidade = \"Salvador\"\n",
    "print(cidade, type(cidade))"
   ]
  },
  {
   "cell_type": "code",
   "execution_count": 9,
   "id": "fed8a893",
   "metadata": {},
   "outputs": [
    {
     "name": "stdout",
     "output_type": "stream",
     "text": [
      "True\n"
     ]
    }
   ],
   "source": [
    "disponivel = True\n",
    "print(disponivel)"
   ]
  },
  {
   "cell_type": "code",
   "execution_count": 10,
   "id": "80f0de2d",
   "metadata": {},
   "outputs": [
    {
     "name": "stdout",
     "output_type": "stream",
     "text": [
      "False <class 'bool'>\n"
     ]
    }
   ],
   "source": [
    "disponivel = False\n",
    "print(disponivel, type(disponivel))"
   ]
  },
  {
   "cell_type": "code",
   "execution_count": 11,
   "id": "4274caea",
   "metadata": {},
   "outputs": [],
   "source": [
    "x = 50\n",
    "y = 2"
   ]
  },
  {
   "cell_type": "code",
   "execution_count": 12,
   "id": "3cc64e33",
   "metadata": {},
   "outputs": [
    {
     "name": "stdout",
     "output_type": "stream",
     "text": [
      "52\n",
      "48\n",
      "100\n",
      "25.0\n"
     ]
    }
   ],
   "source": [
    "print(x + y)\n",
    "print(x - y)\n",
    "print(x * y)\n",
    "print(x / y)"
   ]
  },
  {
   "cell_type": "code",
   "execution_count": 13,
   "id": "2d494bc3",
   "metadata": {},
   "outputs": [
    {
     "name": "stdout",
     "output_type": "stream",
     "text": [
      "2500\n",
      "25\n",
      "0\n"
     ]
    }
   ],
   "source": [
    "print(x ** y)\n",
    "print(x // y)\n",
    "print(x % y)"
   ]
  },
  {
   "cell_type": "code",
   "execution_count": 14,
   "id": "4f37fa74",
   "metadata": {},
   "outputs": [
    {
     "name": "stdout",
     "output_type": "stream",
     "text": [
      "0\n"
     ]
    }
   ],
   "source": [
    "print(3//4)"
   ]
  },
  {
   "cell_type": "code",
   "execution_count": 15,
   "id": "c80b3b7d",
   "metadata": {},
   "outputs": [],
   "source": [
    "tem_cafe = True\n",
    "tem_pao = False"
   ]
  },
  {
   "cell_type": "code",
   "execution_count": 19,
   "id": "d9217c8c",
   "metadata": {},
   "outputs": [
    {
     "name": "stdout",
     "output_type": "stream",
     "text": [
      "False\n",
      "True\n",
      "False\n"
     ]
    }
   ],
   "source": [
    "print(not tem_cafe)\n",
    "print(tem_cafe or tem_pao)\n",
    "print(tem_cafe and tem_pao)"
   ]
  },
  {
   "cell_type": "code",
   "execution_count": 17,
   "id": "f97fb418",
   "metadata": {},
   "outputs": [],
   "source": [
    "dolar = 5.3\n",
    "real = 1"
   ]
  },
  {
   "cell_type": "code",
   "execution_count": 18,
   "id": "edb423b5",
   "metadata": {},
   "outputs": [
    {
     "name": "stdout",
     "output_type": "stream",
     "text": [
      "True\n",
      "False\n",
      "False\n",
      "True\n",
      "False\n",
      "True\n"
     ]
    }
   ],
   "source": [
    "print(dolar > real)\n",
    "print(dolar < real)\n",
    "print(dolar == real)\n",
    "print(dolar >= real)\n",
    "print(dolar <= real)\n",
    "print(dolar != real)"
   ]
  },
  {
   "cell_type": "code",
   "execution_count": 24,
   "id": "7b109e41",
   "metadata": {},
   "outputs": [
    {
     "name": "stdout",
     "output_type": "stream",
     "text": [
      "Informe a sua idade:33\n",
      "33 <class 'str'>\n"
     ]
    }
   ],
   "source": [
    "idade = input(\"Informe a sua idade:\")\n",
    "print(idade, type(idade))"
   ]
  },
  {
   "cell_type": "code",
   "execution_count": 25,
   "id": "d0b3757e",
   "metadata": {},
   "outputs": [
    {
     "name": "stdout",
     "output_type": "stream",
     "text": [
      "33 <class 'int'>\n"
     ]
    }
   ],
   "source": [
    "idade = int(idade)\n",
    "print(idade, type(idade))"
   ]
  },
  {
   "cell_type": "code",
   "execution_count": 26,
   "id": "303814e0",
   "metadata": {},
   "outputs": [
    {
     "ename": "ValueError",
     "evalue": "invalid literal for int() with base 10: '123abc'",
     "output_type": "error",
     "traceback": [
      "\u001b[1;31m---------------------------------------------------------------------------\u001b[0m",
      "\u001b[1;31mValueError\u001b[0m                                Traceback (most recent call last)",
      "\u001b[1;32m~\\AppData\\Local\\Temp/ipykernel_524/2154220962.py\u001b[0m in \u001b[0;36m<module>\u001b[1;34m\u001b[0m\n\u001b[1;32m----> 1\u001b[1;33m \u001b[0mint\u001b[0m\u001b[1;33m(\u001b[0m\u001b[1;34m'123abc'\u001b[0m\u001b[1;33m)\u001b[0m\u001b[1;33m\u001b[0m\u001b[1;33m\u001b[0m\u001b[0m\n\u001b[0m",
      "\u001b[1;31mValueError\u001b[0m: invalid literal for int() with base 10: '123abc'"
     ]
    }
   ],
   "source": [
    "int('123abc')"
   ]
  },
  {
   "cell_type": "code",
   "execution_count": 27,
   "id": "160d0e8c",
   "metadata": {},
   "outputs": [
    {
     "name": "stdout",
     "output_type": "stream",
     "text": [
      "123.25\n",
      "123.25\n",
      "False\n",
      "True\n",
      "False\n",
      "True\n"
     ]
    }
   ],
   "source": [
    "print(float('123.25'))\n",
    "print(str(123.25))\n",
    "print(bool(''))\n",
    "print(bool('abc'))\n",
    "print(bool(0))\n",
    "print(bool(-2))\n"
   ]
  },
  {
   "cell_type": "code",
   "execution_count": 28,
   "id": "3ee0533c",
   "metadata": {},
   "outputs": [
    {
     "name": "stdout",
     "output_type": "stream",
     "text": [
      "Digite o valor do seu salario mensal: 5000\n",
      "Digite o valor do seu gasto mensal em média: 3000\n",
      "O montante que você pode economizar ao fim do ano é de 24000.0\n"
     ]
    }
   ],
   "source": [
    "salario_mensal = input('Digite o valor do seu salario mensal: ')\n",
    "salario_mensal = float(salario_mensal)\n",
    "\n",
    "gasto_mensal = input('Digite o valor do seu gasto mensal em média: ')\n",
    "gasto_mensal = float(gasto_mensal)\n",
    "\n",
    "salario_total = salario_mensal * 12\n",
    "gasto_total = gasto_mensal * 12\n",
    "\n",
    "montante_economizado = salario_total - gasto_total\n",
    "print('O montante que você pode economizar ao fim do ano é de' , montante_economizado)\n"
   ]
  },
  {
   "cell_type": "code",
   "execution_count": 31,
   "id": "5d97629f",
   "metadata": {},
   "outputs": [
    {
     "name": "stdout",
     "output_type": "stream",
     "text": [
      "Qual é o valor da corrida?22\n",
      "Pague a corrida\n"
     ]
    }
   ],
   "source": [
    "valor_passagem = 4.50\n",
    "valor_corrida = input('Qual é o valor da corrida?')\n",
    "if float(valor_corrida) <= valor_passagem * 5:\n",
    "    print('Pague a corrida')\n",
    "if float(valor_corrida) > valor_passagem * 5:\n",
    "    print('Pegue o ônibus')"
   ]
  },
  {
   "cell_type": "code",
   "execution_count": 36,
   "id": "c4481870",
   "metadata": {},
   "outputs": [
    {
     "name": "stdout",
     "output_type": "stream",
     "text": [
      "Qual é o valor da corrida?25\n",
      "Aguarde, o valor pode abaixar\n"
     ]
    }
   ],
   "source": [
    "valor_passagem = 4.50\n",
    "valor_corrida = input('Qual é o valor da corrida?')\n",
    "if float(valor_corrida) <= valor_passagem * 5:\n",
    "    print('Pague a corrida')\n",
    "elif float(valor_corrida) <= valor_passagem * 6:\n",
    "    print('Aguarde, o valor pode abaixar')\n",
    "else:    \n",
    "    print('Pegue o ônibus')"
   ]
  },
  {
   "cell_type": "code",
   "execution_count": 40,
   "id": "69208ada",
   "metadata": {},
   "outputs": [
    {
     "name": "stdout",
     "output_type": "stream",
     "text": [
      "1 item limpo\n",
      "2 itens limpos\n",
      "3 itens limpos\n",
      "4 itens limpos\n",
      "5 itens limpos\n",
      "6 itens limpos\n",
      "7 itens limpos\n",
      "8 itens limpos\n",
      "9 itens limpos\n",
      "10 itens limpos\n",
      "Fim da repeticao dos blocos while\n"
     ]
    }
   ],
   "source": [
    "contador = 0\n",
    "    \n",
    "while contador < 10:\n",
    "    contador =  contador + 1\n",
    "    if contador == 1:\n",
    "        print(contador, 'item limpo')\n",
    "    else:\n",
    "        print(contador, 'itens limpos')\n",
    "        \n",
    "print('Fim da repeticao dos blocos while')        "
   ]
  },
  {
   "cell_type": "code",
   "execution_count": 45,
   "id": "cea1e947",
   "metadata": {},
   "outputs": [
    {
     "name": "stdout",
     "output_type": "stream",
     "text": [
      "1 item limpo\n",
      "2 itens limpos\n",
      "3 itens limpos\n",
      "4 itens limpos\n",
      "5 itens limpos\n",
      "6 itens limpos\n",
      "7 itens limpos\n",
      "8 itens limpos\n",
      "9 itens limpos\n",
      "10 itens limpos\n",
      "Fim da repeticao dos blocos while\n"
     ]
    }
   ],
   "source": [
    "contador = 0\n",
    "    \n",
    "while True:\n",
    "    if contador < 10:\n",
    "        contador = contador + 1\n",
    "        if contador == 1:\n",
    "            print(contador, 'item limpo')\n",
    "        else:\n",
    "            print(contador, 'itens limpos')\n",
    "        \n",
    "    else:\n",
    "        break\n",
    "        \n",
    "print('Fim da repeticao dos blocos while')          "
   ]
  },
  {
   "cell_type": "code",
   "execution_count": 46,
   "id": "ceaf0436",
   "metadata": {},
   "outputs": [
    {
     "name": "stdout",
     "output_type": "stream",
     "text": [
      "Digite a sua senha:letscode\n",
      "Senha invalida, tente novamenteLetsCode\n",
      "Acesso permitido\n"
     ]
    }
   ],
   "source": [
    "texto = input('Digite a sua senha:')\n",
    "\n",
    "while texto != 'LetsCode':\n",
    "    texto = input(\"Senha invalida, tente novamente\")\n",
    "    \n",
    "print('Acesso permitido')    "
   ]
  },
  {
   "cell_type": "code",
   "execution_count": null,
   "id": "200b1c08",
   "metadata": {},
   "outputs": [
    {
     "name": "stdout",
     "output_type": "stream",
     "text": [
      "2 itens limpos\n",
      "3 itens limpos\n",
      "4 itens limpos\n",
      "5 itens limpos\n",
      "6 itens limpos\n",
      "7 itens limpos\n",
      "8 itens limpos\n",
      "9 itens limpos\n",
      "10 itens limpos\n"
     ]
    }
   ],
   "source": [
    "contador = 0\n",
    "    \n",
    "while True:\n",
    "    if contador < 10:\n",
    "        contador = contador + 1\n",
    "        if contador == 1:\n",
    "            continue\n",
    "           \n",
    "        else:\n",
    "            print(contador, 'itens limpos')"
   ]
  },
  {
   "cell_type": "code",
   "execution_count": null,
   "id": "82b07199",
   "metadata": {},
   "outputs": [],
   "source": []
  }
 ],
 "metadata": {
  "kernelspec": {
   "display_name": "Python 3 (ipykernel)",
   "language": "python",
   "name": "python3"
  },
  "language_info": {
   "codemirror_mode": {
    "name": "ipython",
    "version": 3
   },
   "file_extension": ".py",
   "mimetype": "text/x-python",
   "name": "python",
   "nbconvert_exporter": "python",
   "pygments_lexer": "ipython3",
   "version": "3.9.6"
  }
 },
 "nbformat": 4,
 "nbformat_minor": 5
}
