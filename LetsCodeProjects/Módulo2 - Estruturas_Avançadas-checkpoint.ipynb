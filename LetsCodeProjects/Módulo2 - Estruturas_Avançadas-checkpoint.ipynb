{
 "cells": [
  {
   "cell_type": "code",
   "execution_count": 1,
   "id": "67a744a3",
   "metadata": {},
   "outputs": [
    {
     "name": "stdout",
     "output_type": "stream",
     "text": [
      "['Brasil', 'Argentina', 'Uruguai', 'Chile', 'Colômbia']\n"
     ]
    }
   ],
   "source": [
    "nome_paises = ['Brasil', 'Argentina', 'Uruguai', 'Chile', 'Colômbia']\n",
    "print(nome_paises)"
   ]
  },
  {
   "cell_type": "code",
   "execution_count": 2,
   "id": "7e39a334",
   "metadata": {},
   "outputs": [
    {
     "name": "stdout",
     "output_type": "stream",
     "text": [
      "Tamanho da Lista: 5\n"
     ]
    }
   ],
   "source": [
    "print('Tamanho da Lista:', len(nome_paises))"
   ]
  },
  {
   "cell_type": "code",
   "execution_count": 3,
   "id": "40f05afb",
   "metadata": {},
   "outputs": [
    {
     "name": "stdout",
     "output_type": "stream",
     "text": [
      "Colômbia\n"
     ]
    }
   ],
   "source": [
    "print(nome_paises[4])"
   ]
  },
  {
   "cell_type": "code",
   "execution_count": 4,
   "id": "8e89e0ab",
   "metadata": {},
   "outputs": [
    {
     "name": "stdout",
     "output_type": "stream",
     "text": [
      "Colômbia\n"
     ]
    }
   ],
   "source": [
    "print(nome_paises[-1])"
   ]
  },
  {
   "cell_type": "code",
   "execution_count": 7,
   "id": "3e52f32b",
   "metadata": {},
   "outputs": [
    {
     "name": "stdout",
     "output_type": "stream",
     "text": [
      "País: Venezuela\n",
      "['Brasil', 'Argentina', 'Uruguai', 'Chile', 'Venezuela']\n"
     ]
    }
   ],
   "source": [
    "nome_paises[4] = 'Venezuela'\n",
    "print('País:', nome_paises[4])\n",
    "print(nome_paises)"
   ]
  },
  {
   "cell_type": "code",
   "execution_count": 10,
   "id": "bbac5958",
   "metadata": {},
   "outputs": [
    {
     "name": "stdout",
     "output_type": "stream",
     "text": [
      "['Argentina', 'Uruguai', 'Chile']\n"
     ]
    }
   ],
   "source": [
    "print(nome_paises[1:4])"
   ]
  },
  {
   "cell_type": "code",
   "execution_count": 13,
   "id": "472178b5",
   "metadata": {},
   "outputs": [
    {
     "name": "stdout",
     "output_type": "stream",
     "text": [
      "['Argentina']\n"
     ]
    }
   ],
   "source": [
    "print(nome_paises[1:-3])"
   ]
  },
  {
   "cell_type": "code",
   "execution_count": 16,
   "id": "05b02a01",
   "metadata": {},
   "outputs": [
    {
     "name": "stdout",
     "output_type": "stream",
     "text": [
      "['Uruguai', 'Chile', 'Venezuela']\n"
     ]
    }
   ],
   "source": [
    "print(nome_paises[2:])"
   ]
  },
  {
   "cell_type": "code",
   "execution_count": 17,
   "id": "12b99fa3",
   "metadata": {},
   "outputs": [
    {
     "name": "stdout",
     "output_type": "stream",
     "text": [
      "['Brasil', 'Argentina', 'Uruguai', 'Chile']\n"
     ]
    }
   ],
   "source": [
    "print(nome_paises[:4])"
   ]
  },
  {
   "cell_type": "code",
   "execution_count": 18,
   "id": "3792444a",
   "metadata": {},
   "outputs": [
    {
     "name": "stdout",
     "output_type": "stream",
     "text": [
      "['Brasil', 'Argentina', 'Uruguai', 'Chile', 'Venezuela']\n"
     ]
    }
   ],
   "source": [
    "print(nome_paises[:])"
   ]
  },
  {
   "cell_type": "code",
   "execution_count": 20,
   "id": "e83ec383",
   "metadata": {},
   "outputs": [
    {
     "name": "stdout",
     "output_type": "stream",
     "text": [
      "['Brasil', 'Uruguai', 'Venezuela']\n"
     ]
    }
   ],
   "source": [
    "print(nome_paises[::2])"
   ]
  },
  {
   "cell_type": "code",
   "execution_count": 21,
   "id": "c35b70ee",
   "metadata": {},
   "outputs": [
    {
     "name": "stdout",
     "output_type": "stream",
     "text": [
      "['Venezuela', 'Chile', 'Uruguai', 'Argentina', 'Brasil']\n"
     ]
    }
   ],
   "source": [
    "print(nome_paises[::-1])"
   ]
  },
  {
   "cell_type": "code",
   "execution_count": 22,
   "id": "c77147eb",
   "metadata": {},
   "outputs": [
    {
     "name": "stdout",
     "output_type": "stream",
     "text": [
      "True\n"
     ]
    }
   ],
   "source": [
    "print('Brasil' in nome_paises) "
   ]
  },
  {
   "cell_type": "code",
   "execution_count": 23,
   "id": "5f02c1e6",
   "metadata": {},
   "outputs": [
    {
     "name": "stdout",
     "output_type": "stream",
     "text": [
      "False\n"
     ]
    }
   ],
   "source": [
    "print('Venezuela' not in nome_paises)"
   ]
  },
  {
   "cell_type": "code",
   "execution_count": 24,
   "id": "ef01a289",
   "metadata": {},
   "outputs": [],
   "source": [
    "lista_capitais = []"
   ]
  },
  {
   "cell_type": "code",
   "execution_count": 28,
   "id": "cf79a9c1",
   "metadata": {},
   "outputs": [
    {
     "name": "stdout",
     "output_type": "stream",
     "text": [
      "['Brasília', 'Santiago', 'Montevideu', 'Buenos Aires', 'Caracas']\n"
     ]
    }
   ],
   "source": [
    "lista_capitais.append('Brasília')\n",
    "lista_capitais.append('Santiago')\n",
    "lista_capitais.append('Montevideu')\n",
    "lista_capitais.append('Buenos Aires')\n",
    "lista_capitais.append('Caracas')\n",
    "print(lista_capitais)"
   ]
  },
  {
   "cell_type": "code",
   "execution_count": 30,
   "id": "c9a9bf41",
   "metadata": {},
   "outputs": [
    {
     "name": "stdout",
     "output_type": "stream",
     "text": [
      "['Brasília', 'Santiago', 'Paris', 'Montevideu', 'Buenos Aires', 'Caracas']\n"
     ]
    }
   ],
   "source": [
    "lista_capitais.insert(2, 'Paris')\n",
    "print(lista_capitais)"
   ]
  },
  {
   "cell_type": "code",
   "execution_count": 33,
   "id": "c599d067",
   "metadata": {},
   "outputs": [
    {
     "name": "stdout",
     "output_type": "stream",
     "text": [
      "['Brasília', 'Paris', 'Montevideu', 'Buenos Aires', 'Caracas']\n"
     ]
    }
   ],
   "source": [
    "lista_capitais.remove('Santiago')\n",
    "print(lista_capitais)"
   ]
  },
  {
   "cell_type": "code",
   "execution_count": 34,
   "id": "6bbdcc07",
   "metadata": {},
   "outputs": [
    {
     "name": "stdout",
     "output_type": "stream",
     "text": [
      "['Brasília', 'Paris', 'Montevideu', 'Caracas'] Buenos Aires\n"
     ]
    }
   ],
   "source": [
    "removido = lista_capitais.pop(3)\n",
    "print(lista_capitais, removido )"
   ]
  },
  {
   "cell_type": "code",
   "execution_count": 35,
   "id": "888adf7d",
   "metadata": {},
   "outputs": [
    {
     "name": "stdout",
     "output_type": "stream",
     "text": [
      "('Brasil', 'Argentina', 'Uruguai', 'Chile', 'Venezuela')\n"
     ]
    }
   ],
   "source": [
    "nomes_paises = ('Brasil', 'Argentina', 'Uruguai', 'Chile', 'Venezuela')\n",
    "print(nomes_paises)"
   ]
  },
  {
   "cell_type": "code",
   "execution_count": 36,
   "id": "e6d4dd9e",
   "metadata": {},
   "outputs": [
    {
     "name": "stdout",
     "output_type": "stream",
     "text": [
      "('Brasil', 'Argentina', 'Uruguai', 'Chile', 'Venezuela') <class 'tuple'>\n"
     ]
    }
   ],
   "source": [
    "nomes_paises = 'Brasil', 'Argentina', 'Uruguai', 'Chile', 'Venezuela'\n",
    "print(nomes_paises, type(nomes_paises))"
   ]
  },
  {
   "cell_type": "code",
   "execution_count": 37,
   "id": "9f251b0c",
   "metadata": {},
   "outputs": [
    {
     "name": "stdout",
     "output_type": "stream",
     "text": [
      "('Bahia',) <class 'tuple'>\n"
     ]
    }
   ],
   "source": [
    "nome_estado = 'Bahia',\n",
    "print(nome_estado, type(nome_estado))"
   ]
  },
  {
   "cell_type": "code",
   "execution_count": 38,
   "id": "4539b792",
   "metadata": {},
   "outputs": [
    {
     "data": {
      "text/plain": [
       "5"
      ]
     },
     "execution_count": 38,
     "metadata": {},
     "output_type": "execute_result"
    }
   ],
   "source": [
    "len(nomes_paises)"
   ]
  },
  {
   "cell_type": "code",
   "execution_count": 39,
   "id": "49964389",
   "metadata": {},
   "outputs": [
    {
     "data": {
      "text/plain": [
       "'Argentina'"
      ]
     },
     "execution_count": 39,
     "metadata": {},
     "output_type": "execute_result"
    }
   ],
   "source": [
    "nomes_paises[1]"
   ]
  },
  {
   "cell_type": "code",
   "execution_count": 40,
   "id": "cd3b6346",
   "metadata": {},
   "outputs": [
    {
     "name": "stdout",
     "output_type": "stream",
     "text": [
      "Argentina Uruguai Chile\n"
     ]
    }
   ],
   "source": [
    "b,a,u,c,v = nomes_paises\n",
    "print(a,u,c)"
   ]
  },
  {
   "cell_type": "code",
   "execution_count": 41,
   "id": "ab5ca1c7",
   "metadata": {},
   "outputs": [
    {
     "name": "stdout",
     "output_type": "stream",
     "text": [
      "Brasil Argentina Uruguai Chile Venezuela\n"
     ]
    }
   ],
   "source": [
    "print(*nomes_paises)"
   ]
  },
  {
   "cell_type": "code",
   "execution_count": 42,
   "id": "f766e7e3",
   "metadata": {},
   "outputs": [
    {
     "name": "stdout",
     "output_type": "stream",
     "text": [
      "Let's Code\n"
     ]
    }
   ],
   "source": [
    "print(\"Let's Code\")"
   ]
  },
  {
   "cell_type": "code",
   "execution_count": 46,
   "id": "a68f058f",
   "metadata": {},
   "outputs": [
    {
     "name": "stdout",
     "output_type": "stream",
     "text": [
      "O professor Pietro da Let's Code disse: \"Hoje a pizza é por minha conta.\"\n"
     ]
    }
   ],
   "source": [
    "frase = \"O professor Pietro da Let's Code disse: \\\"Hoje a pizza é por minha conta.\\\"\"\n",
    "print(frase)"
   ]
  },
  {
   "cell_type": "code",
   "execution_count": 47,
   "id": "dbb3989d",
   "metadata": {},
   "outputs": [
    {
     "name": "stdout",
     "output_type": "stream",
     "text": [
      "G\n"
     ]
    }
   ],
   "source": [
    "empresa = \"Google\"\n",
    "print(empresa[0])"
   ]
  },
  {
   "cell_type": "code",
   "execution_count": 49,
   "id": "cfe9d8a4",
   "metadata": {},
   "outputs": [
    {
     "name": "stdout",
     "output_type": "stream",
     "text": [
      "g\n"
     ]
    }
   ],
   "source": [
    "empresa = \"Google\"\n",
    "print(empresa[3])"
   ]
  },
  {
   "cell_type": "code",
   "execution_count": 51,
   "id": "4e8a04c7",
   "metadata": {},
   "outputs": [
    {
     "name": "stdout",
     "output_type": "stream",
     "text": [
      "['São Paulo', 'Belo Horizonte', 'Rio de Janeiro', 'Brasília']\n"
     ]
    }
   ],
   "source": [
    "nomes_cidades = \"São Paulo, Belo Horizonte, Rio de Janeiro, Brasília\"\n",
    "nomes_cidades = nomes_cidades.split(', ')\n",
    "print(nomes_cidades)"
   ]
  },
  {
   "cell_type": "code",
   "execution_count": 52,
   "id": "bb2eeb2c",
   "metadata": {},
   "outputs": [
    {
     "name": "stdout",
     "output_type": "stream",
     "text": [
      "MENU PRINCIPAL\n"
     ]
    }
   ],
   "source": [
    "cabeçalho = '   MENU PRINCIPAL   '\n",
    "print(cabeçalho.strip())"
   ]
  },
  {
   "cell_type": "code",
   "execution_count": 54,
   "id": "3e74dcb3",
   "metadata": {},
   "outputs": [
    {
     "name": "stdout",
     "output_type": "stream",
     "text": [
      "Rio De Janeiro\n",
      "Rio de janeiro\n",
      "rio de janeiro\n",
      "RIO DE JANEIRO\n"
     ]
    }
   ],
   "source": [
    "nome_cidade ='RiO dE jAnEiRo'\n",
    "print(nome_cidade.title()) # Rio De Janeiro\n",
    "print(nome_cidade.capitalize()) # Rio de janeiro\n",
    "print(nome_cidade.lower()) # rio de janeiro\n",
    "print(nome_cidade.upper()) # RIO DE JANEIRO\n"
   ]
  },
  {
   "cell_type": "code",
   "execution_count": 57,
   "id": "a6c6283c",
   "metadata": {},
   "outputs": [
    {
     "name": "stdout",
     "output_type": "stream",
     "text": [
      "Qual cidade do Brasil é conhecida como cidade maravilhosa? São paulo\n",
      "Tenta de novo, vai!\n",
      "Qual cidade do Brasil é conhecida como cidade maravilhosa? Rio de Janeiro\n",
      "Boa, campeão!\n"
     ]
    }
   ],
   "source": [
    "nome_cidade = input('Qual cidade do Brasil é conhecida como cidade maravilhosa? ')\n",
    "nome_cidade = nome_cidade.strip()\n",
    "while nome_cidade.lower() != 'rio de janeiro':\n",
    "    print(\"Tenta de novo, vai!\")\n",
    "    nome_cidade = input('Qual cidade do Brasil é conhecida como cidade maravilhosa? ')    \n",
    "          \n",
    "print(\"Boa, campeão!\")          "
   ]
  },
  {
   "cell_type": "code",
   "execution_count": 58,
   "id": "55d29d4b",
   "metadata": {},
   "outputs": [
    {
     "name": "stdout",
     "output_type": "stream",
     "text": [
      "True\n"
     ]
    }
   ],
   "source": [
    "mensagem = \"Você viu o que o Pietro disse na sala ontem?\"\n",
    "fui_citado = \"Pietro\" in mensagem # in: verifica a presença de um valor dentro de uma string\n",
    "print(fui_citado)"
   ]
  },
  {
   "cell_type": "code",
   "execution_count": 59,
   "id": "c29f9d46",
   "metadata": {},
   "outputs": [
    {
     "name": "stdout",
     "output_type": "stream",
     "text": [
      "Olá, felipe\n"
     ]
    }
   ],
   "source": [
    "cumprimento = \"Olá, \"\n",
    "nome = \"felipe\"\n",
    "print(cumprimento + nome)"
   ]
  },
  {
   "cell_type": "code",
   "execution_count": 60,
   "id": "1d4e2c96",
   "metadata": {},
   "outputs": [
    {
     "name": "stdout",
     "output_type": "stream",
     "text": [
      "felipefelipefelipefelipefelipe\n"
     ]
    }
   ],
   "source": [
    "print(nome * 5)"
   ]
  },
  {
   "cell_type": "code",
   "execution_count": 67,
   "id": "0f1e3197",
   "metadata": {},
   "outputs": [
    {
     "name": "stdout",
     "output_type": "stream",
     "text": [
      "Felipe tem 35 anos e 3 filhos.\n"
     ]
    }
   ],
   "source": [
    "nome = \"Felipe\"\n",
    "idade = 35\n",
    "n_filhos = 3\n",
    "print(nome + ' tem ' + str(idade) + ' anos e ' + str(n_filhos) + ' filhos.')"
   ]
  },
  {
   "cell_type": "code",
   "execution_count": 68,
   "id": "c182b417",
   "metadata": {},
   "outputs": [
    {
     "name": "stdout",
     "output_type": "stream",
     "text": [
      "Felipe tem 35 anos e 3 filhos.\n"
     ]
    }
   ],
   "source": [
    "print('{} tem {} anos e {} filhos.'.format(nome, idade, n_filhos)) # Método Format"
   ]
  },
  {
   "cell_type": "code",
   "execution_count": 70,
   "id": "6284bc33",
   "metadata": {},
   "outputs": [
    {
     "name": "stdout",
     "output_type": "stream",
     "text": [
      "O preço da gasolina hoje subiu e está em R$ 3.48\n"
     ]
    }
   ],
   "source": [
    "preço_gasolina = 3.476\n",
    "print('O preço da gasolina hoje subiu e está em R$ {:.2f}'.format(preço_gasolina)) #:.2f-duas primeiras casas decimais e float}"
   ]
  },
  {
   "cell_type": "code",
   "execution_count": 71,
   "id": "ac7ef323",
   "metadata": {},
   "outputs": [
    {
     "name": "stdout",
     "output_type": "stream",
     "text": [
      "Felipe tem 35 e tem 3 filhos.\n"
     ]
    }
   ],
   "source": [
    "print(f'{nome} tem {idade} e tem {n_filhos} filhos.') # atalho para método format 'f'\n"
   ]
  },
  {
   "cell_type": "code",
   "execution_count": 2,
   "id": "b4382ebb",
   "metadata": {},
   "outputs": [],
   "source": [
    "dados_cidade = {                       # Dicionário\n",
    "    'nome': 'Salvador',\n",
    "    'estado': 'Bahia',\n",
    "    'área_km²': 693.8,\n",
    "    'população_mi': 2.886\n",
    "}"
   ]
  },
  {
   "cell_type": "code",
   "execution_count": 4,
   "id": "fd9bc1c6",
   "metadata": {},
   "outputs": [
    {
     "name": "stdout",
     "output_type": "stream",
     "text": [
      "{'nome': 'Salvador', 'estado': 'Bahia', 'área_km²': 693.8, 'população_mi': 2.886}\n"
     ]
    }
   ],
   "source": [
    "print(dados_cidade)"
   ]
  },
  {
   "cell_type": "code",
   "execution_count": 7,
   "id": "ba268000",
   "metadata": {},
   "outputs": [],
   "source": [
    "dados_cidade['país'] = 'Brasil'  #Sintaxe para adicionar novo par chave/valor"
   ]
  },
  {
   "cell_type": "code",
   "execution_count": 8,
   "id": "8f5c7535",
   "metadata": {},
   "outputs": [
    {
     "name": "stdout",
     "output_type": "stream",
     "text": [
      "{'nome': 'Salvador', 'estado': 'Bahia', 'área_km²': 693.8, 'população_mi': 2.886, 'país': 'Brasil'}\n"
     ]
    }
   ],
   "source": [
    "print(dados_cidade)"
   ]
  },
  {
   "cell_type": "code",
   "execution_count": 9,
   "id": "31fb37cb",
   "metadata": {},
   "outputs": [
    {
     "name": "stdout",
     "output_type": "stream",
     "text": [
      "Salvador\n"
     ]
    }
   ],
   "source": [
    "print(dados_cidade['nome']) #Sintaxe para acessar um valor no dicionário"
   ]
  },
  {
   "cell_type": "code",
   "execution_count": 11,
   "id": "40e699d2",
   "metadata": {},
   "outputs": [
    {
     "name": "stdout",
     "output_type": "stream",
     "text": [
      "{'nome': 'Salvador', 'estado': 'Bahia', 'área_km²': 693.8, 'população_mi': 2.886, 'país': 'Brasil', 'area': 700}\n"
     ]
    }
   ],
   "source": [
    "dados_cidade['area'] = 700 #Sintaxe para alterar valores em um dicionário\n",
    "print(dados_cidade)"
   ]
  },
  {
   "cell_type": "code",
   "execution_count": 31,
   "id": "e4aaa913",
   "metadata": {},
   "outputs": [
    {
     "name": "stdout",
     "output_type": "stream",
     "text": [
      "{'nome': 'Alagoinhas', 'estado': 'Bahia', 'área_km²': 693.8, 'população_mi': 2.886, 'país': 'Brasil', 'area': 700, 'pop_mi': 20, 'fundação': '25/01/1530'}\n",
      "{'nome': 'Alagoinhas', 'estado': 'Bahia', 'área_km²': 693.8, 'população_mi': 2.886, 'país': 'Brasil', 'area': 700, 'pop_mi': 20, 'fundação': '25/01/1530'}\n"
     ]
    }
   ],
   "source": [
    "dados_cidade_2 = dados_cidade\n",
    "dados_cidade_2['nome'] = 'Alagoinhas'\n",
    "print(dados_cidade_2)\n",
    "print(dados_cidade)"
   ]
  },
  {
   "cell_type": "code",
   "execution_count": 32,
   "id": "85dd306b",
   "metadata": {},
   "outputs": [],
   "source": [
    "dados_cidade_3 = dados_cidade.copy()"
   ]
  },
  {
   "cell_type": "code",
   "execution_count": 33,
   "id": "2bf9e8af",
   "metadata": {},
   "outputs": [],
   "source": [
    "dados_cidade_3['estado'] ='Sergipe'"
   ]
  },
  {
   "cell_type": "code",
   "execution_count": 34,
   "id": "09b797e9",
   "metadata": {},
   "outputs": [
    {
     "name": "stdout",
     "output_type": "stream",
     "text": [
      "{'nome': 'Alagoinhas', 'estado': 'Bahia', 'área_km²': 693.8, 'população_mi': 2.886, 'país': 'Brasil', 'area': 700, 'pop_mi': 20, 'fundação': '25/01/1530'}\n"
     ]
    }
   ],
   "source": [
    "print(dados_cidade)"
   ]
  },
  {
   "cell_type": "code",
   "execution_count": 35,
   "id": "5f628aaf",
   "metadata": {},
   "outputs": [
    {
     "name": "stdout",
     "output_type": "stream",
     "text": [
      "{'nome': 'Alagoinhas', 'estado': 'Sergipe', 'área_km²': 693.8, 'população_mi': 2.886, 'país': 'Brasil', 'area': 700, 'pop_mi': 20, 'fundação': '25/01/1530'}\n"
     ]
    }
   ],
   "source": [
    "print(dados_cidade_3)"
   ]
  },
  {
   "cell_type": "code",
   "execution_count": 37,
   "id": "66e99c19",
   "metadata": {},
   "outputs": [
    {
     "name": "stdout",
     "output_type": "stream",
     "text": [
      "{'nome': 'Alagoinhas', 'estado': 'Bahia', 'área_km²': 693.8, 'população_mi': 2.886, 'país': 'Brasil', 'area': 700, 'pop_mi': 20, 'fundação': '25/01/1530'}\n"
     ]
    }
   ],
   "source": [
    "novos_dados = {\n",
    "    'pop_mi' : 20,\n",
    "    'fundação' : '25/01/1530'\n",
    "}\n",
    "\n",
    "dados_cidade.update(novos_dados)  #Sintaxe de update novos dados a um dicionário existente\n",
    "print(dados_cidade)"
   ]
  },
  {
   "cell_type": "code",
   "execution_count": 40,
   "id": "13a0e17b",
   "metadata": {},
   "outputs": [
    {
     "name": "stdout",
     "output_type": "stream",
     "text": [
      "None\n"
     ]
    }
   ],
   "source": [
    "print(dados_cidade.get('prefeito'))"
   ]
  },
  {
   "cell_type": "code",
   "execution_count": 41,
   "id": "e7e52383",
   "metadata": {},
   "outputs": [
    {
     "name": "stdout",
     "output_type": "stream",
     "text": [
      "dict_keys(['nome', 'estado', 'área_km²', 'população_mi', 'país', 'area', 'pop_mi', 'fundação'])\n",
      "---\n",
      "dict_values(['Alagoinhas', 'Bahia', 693.8, 2.886, 'Brasil', 700, 20, '25/01/1530'])\n",
      "---\n",
      "dict_items([('nome', 'Alagoinhas'), ('estado', 'Bahia'), ('área_km²', 693.8), ('população_mi', 2.886), ('país', 'Brasil'), ('area', 700), ('pop_mi', 20), ('fundação', '25/01/1530')])\n"
     ]
    }
   ],
   "source": [
    "print(dados_cidade.keys()) #retorna uma lista de chaves de um dicionário\n",
    "print('---')\n",
    "print(dados_cidade.values()) #retorna uma lista de valores de um dicionário\n",
    "print('---')\n",
    "print(dados_cidade.items()) #retorna uma lista de tuplas(chaves,valor) de um dicionário"
   ]
  },
  {
   "cell_type": "code",
   "execution_count": 43,
   "id": "b9785e7e",
   "metadata": {},
   "outputs": [
    {
     "name": "stdout",
     "output_type": "stream",
     "text": [
      "São Paulo\n",
      "Londres\n",
      "Tóquio\n",
      "Paris\n"
     ]
    }
   ],
   "source": [
    "nomes_cidades = [\"São Paulo\", 'Londres', 'Tóquio', 'Paris'] #Sintaxe método for loop em uma lista\n",
    "for nome in nomes_cidades:\n",
    "    print(nome)"
   ]
  },
  {
   "cell_type": "code",
   "execution_count": 46,
   "id": "fbff4985",
   "metadata": {},
   "outputs": [
    {
     "name": "stdout",
     "output_type": "stream",
     "text": [
      "São Paulo\n",
      "Londres\n",
      "Tóquio\n",
      "Paris\n"
     ]
    }
   ],
   "source": [
    "contador = 0\n",
    "nomes_cidades= [\"São Paulo\", 'Londres', 'Tóquio', 'Paris'] #Sintaxe método while em uma lista\n",
    "while contador < len(nomes_cidades):\n",
    "    print(nomes_cidades[contador])\n",
    "    contador = contador + 1\n"
   ]
  },
  {
   "cell_type": "code",
   "execution_count": 47,
   "id": "14f62f54",
   "metadata": {},
   "outputs": [
    {
     "name": "stdout",
     "output_type": "stream",
     "text": [
      "São Paulo\n",
      "Londres\n",
      "Tóquio\n",
      "Paris\n"
     ]
    }
   ],
   "source": [
    "nomes_cidades = \"São Paulo\", 'Londres', 'Tóquio', 'Paris' #Sintaxe método for loop em uma tupla\n",
    "for nome in nomes_cidades:\n",
    "    print(nome)"
   ]
  },
  {
   "cell_type": "code",
   "execution_count": 50,
   "id": "77774876",
   "metadata": {},
   "outputs": [
    {
     "name": "stdout",
     "output_type": "stream",
     "text": [
      "nome: São Paulo\n",
      "estado: São Paulo\n",
      "pop_mi: 12.2\n"
     ]
    }
   ],
   "source": [
    "cidade = {\n",
    "    'nome': 'São Paulo',\n",
    "    'estado': 'São Paulo',\n",
    "    'pop_mi': 12.2\n",
    "}\n",
    "\n",
    "for chave in cidade:\n",
    "    print(f'{chave}: {cidade[chave]}')"
   ]
  },
  {
   "cell_type": "code",
   "execution_count": 53,
   "id": "0a3e8956",
   "metadata": {},
   "outputs": [
    {
     "name": "stdout",
     "output_type": "stream",
     "text": [
      "['São Paulo', 'Londres', 'Tóquio', 'Paris']\n"
     ]
    }
   ],
   "source": [
    "nomes_cidades = [\"São Paulo\", 'Londres', 'Tóquio', 'Paris'] \n",
    "for nome in nomes_cidades:\n",
    "    nome = 'Rio de Janeiro'\n",
    "print(nomes_cidades)"
   ]
  },
  {
   "cell_type": "code",
   "execution_count": 56,
   "id": "f39eae54",
   "metadata": {},
   "outputs": [
    {
     "name": "stdout",
     "output_type": "stream",
     "text": [
      "['Rio de Janeiro', 'Rio de Janeiro', 'Rio de Janeiro', 'Rio de Janeiro']\n"
     ]
    }
   ],
   "source": [
    "for posição in range (len(nomes_cidades)):\n",
    "    nomes_cidades[posição] = 'Rio de Janeiro'\n",
    "print(nomes_cidades)"
   ]
  },
  {
   "cell_type": "code",
   "execution_count": 57,
   "id": "924a174e",
   "metadata": {},
   "outputs": [
    {
     "name": "stdout",
     "output_type": "stream",
     "text": [
      "[0, 1, 2, 3, 4, 5, 6, 7, 8, 9]\n",
      "[2, 3, 4, 5, 6, 7, 8, 9]\n",
      "[2, 4, 6, 8]\n"
     ]
    }
   ],
   "source": [
    "print(list(range(10)))\n",
    "print(list(range(2,10)))\n",
    "print(list(range(2,10,2)))"
   ]
  },
  {
   "cell_type": "code",
   "execution_count": 58,
   "id": "ea803619",
   "metadata": {},
   "outputs": [
    {
     "name": "stdout",
     "output_type": "stream",
     "text": [
      "Olá mundo!\n"
     ]
    }
   ],
   "source": [
    "def hello():    #Sintaxe para criar uma função\n",
    "    print('Olá mundo!')\n",
    "hello()    "
   ]
  },
  {
   "cell_type": "code",
   "execution_count": 61,
   "id": "a0f73799",
   "metadata": {},
   "outputs": [
    {
     "name": "stdout",
     "output_type": "stream",
     "text": [
      "9.0\n"
     ]
    }
   ],
   "source": [
    "def calcula_media(valor1, valor2, valor3):\n",
    "    soma = valor1 + valor2 + valor3\n",
    "    media = soma / 3\n",
    "    return media\n",
    "resultado = calcula_media(10,9,8)\n",
    "print(resultado)"
   ]
  },
  {
   "cell_type": "code",
   "execution_count": 62,
   "id": "007cc00e",
   "metadata": {},
   "outputs": [
    {
     "name": "stdout",
     "output_type": "stream",
     "text": [
      "8.666666666666666\n"
     ]
    }
   ],
   "source": [
    "resultado_2 = calcula_media(valor1 = 9, valor2 = 8, valor3 = 9)\n",
    "print(resultado_2)"
   ]
  },
  {
   "cell_type": "code",
   "execution_count": 66,
   "id": "00a9d2aa",
   "metadata": {},
   "outputs": [
    {
     "name": "stdout",
     "output_type": "stream",
     "text": [
      "Olá , Brisa\n"
     ]
    }
   ],
   "source": [
    "print('Olá', end = ' ')\n",
    "print(', Brisa')"
   ]
  },
  {
   "cell_type": "code",
   "execution_count": 69,
   "id": "a67c75cd",
   "metadata": {},
   "outputs": [
    {
     "name": "stdout",
     "output_type": "stream",
     "text": [
      "0.0\n"
     ]
    }
   ],
   "source": [
    "def calcula_media(valor1 = 0, valor2 = 0, valor3 = 0):\n",
    "    soma = valor1 + valor2 + valor3\n",
    "    media = soma / 3\n",
    "    return media\n",
    "resultado = calcula_media()\n",
    "print(resultado)\n"
   ]
  },
  {
   "cell_type": "code",
   "execution_count": 72,
   "id": "e439bc84",
   "metadata": {},
   "outputs": [
    {
     "name": "stdout",
     "output_type": "stream",
     "text": [
      "(9, 8, 7) <class 'tuple'>\n"
     ]
    }
   ],
   "source": [
    "def calcula_media(*args): #Sintaxe *args usada para passar um numero variável de argumentos para uma função\n",
    "    print(args, type(args))\n",
    "    \n",
    "calcula_media(9,8,7)    "
   ]
  },
  {
   "cell_type": "code",
   "execution_count": 79,
   "id": "deb10262",
   "metadata": {},
   "outputs": [
    {
     "data": {
      "text/plain": [
       "9.3"
      ]
     },
     "execution_count": 79,
     "metadata": {},
     "output_type": "execute_result"
    }
   ],
   "source": [
    "def calcula_media(*args, margem): #Sintaxe *args usada para passar um numero variável de argumentos para uma função\n",
    "    soma = sum(args)\n",
    "    media = soma / len(args)\n",
    "    return media + margem\n",
    "\n",
    "calcula_media(10,9,8, margem = 0.3)"
   ]
  },
  {
   "cell_type": "code",
   "execution_count": 82,
   "id": "292ac36f",
   "metadata": {},
   "outputs": [
    {
     "name": "stdout",
     "output_type": "stream",
     "text": [
      "{'nome': 'Brisa', 'sobrenome': 'Rosatti'} <class 'dict'>\n"
     ]
    }
   ],
   "source": [
    "def print_info(**kwargs):\n",
    "    print(kwargs,type(kwargs))\n",
    "    \n",
    "print_info(nome = 'Brisa', sobrenome = 'Rosatti')    "
   ]
  },
  {
   "cell_type": "code",
   "execution_count": null,
   "id": "aa60ff18",
   "metadata": {},
   "outputs": [],
   "source": []
  }
 ],
 "metadata": {
  "kernelspec": {
   "display_name": "Python 3 (ipykernel)",
   "language": "python",
   "name": "python3"
  },
  "language_info": {
   "codemirror_mode": {
    "name": "ipython",
    "version": 3
   },
   "file_extension": ".py",
   "mimetype": "text/x-python",
   "name": "python",
   "nbconvert_exporter": "python",
   "pygments_lexer": "ipython3",
   "version": "3.9.6"
  }
 },
 "nbformat": 4,
 "nbformat_minor": 5
}
